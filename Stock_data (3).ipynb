{
 "cells": [
  {
   "cell_type": "code",
   "execution_count": 2,
   "id": "c86df105-9959-440e-b9bd-8454bc225cf9",
   "metadata": {},
   "outputs": [],
   "source": [
    "# !pip install matplotlib seaborn psycopg2-binary pyspark textblob pymongo "
   ]
  },
  {
   "cell_type": "code",
   "execution_count": 9,
   "id": "21843d65-755c-4e96-9347-32e9b034c06f",
   "metadata": {},
   "outputs": [
    {
     "name": "stdout",
     "output_type": "stream",
     "text": [
      "Data from /home/akshay/Downloads/stock-tweet-and-price/stocktweet/stocktweet.csv inserted into MongoDB collection tweets.\n"
     ]
    }
   ],
   "source": [
    "# import csv\n",
    "# from pymongo import MongoClient\n",
    "\n",
    "# # MongoDB connection details\n",
    "# mongo_host = 'localhost'\n",
    "# mongo_port = 27017\n",
    "# mongo_database = 'stock_tweets'\n",
    "# mongo_collection = 'tweets'\n",
    "\n",
    "# # Connect to MongoDB\n",
    "# client = MongoClient(mongo_host, mongo_port)\n",
    "# db = client[mongo_database]\n",
    "# collection = db[mongo_collection]\n",
    "\n",
    "# # CSV file path\n",
    "# csv_file = '/home/akshay/Downloads/stock-tweet-and-price/stocktweet/stocktweet.csv'\n",
    "\n",
    "# # Open CSV file and insert data into MongoDB\n",
    "# with open(csv_file, 'r', encoding='utf-8') as file:\n",
    "#     reader = csv.DictReader(file)\n",
    "#     data = []\n",
    "#     for row in reader:\n",
    "#         data.append(row)\n",
    "\n",
    "# # Insert data into MongoDB collection\n",
    "# collection.insert_many(data)\n",
    "\n",
    "# # Close MongoDB connection\n",
    "# client.close()\n",
    "\n",
    "# print(f\"Data from {csv_file} inserted into MongoDB collection {mongo_collection}.\")"
   ]
  },
  {
   "cell_type": "code",
   "execution_count": 17,
   "id": "a1b11742-53db-4b0f-abae-16205e43db38",
   "metadata": {},
   "outputs": [
    {
     "name": "stdout",
     "output_type": "stream",
     "text": [
      "Data from CSVs in /home/akshay/Downloads/stock-tweet-and-price/stockprice/ inserted into PostgreSQL table stock_prices.\n"
     ]
    }
   ],
   "source": [
    "# import os\n",
    "# import csv\n",
    "# import psycopg2\n",
    "\n",
    "# # PostgreSQL connection details\n",
    "# pg_host = 'localhost'\n",
    "# pg_port = '5432'\n",
    "# pg_database = 'stock_price'\n",
    "# pg_user = 'postgres'\n",
    "# pg_password = 'postgresspassword'\n",
    "\n",
    "\n",
    "\n",
    "# # Connect to PostgreSQL\n",
    "# conn_pg= psycopg2.connect(\n",
    "#         host=pg_host,\n",
    "#         port=pg_port,\n",
    "#         database=pg_database,\n",
    "#         user=pg_user,\n",
    "#         password=pg_password\n",
    "# )\n",
    "# cursor_pg = conn_pg.cursor()\n",
    "\n",
    "# # Directory containing stock price CSVs\n",
    "\n",
    "# csv_directory = '/home/akshay/Downloads/stock-tweet-and-price/stockprice/'\n",
    "\n",
    "# # Insert each CSV file into PostgreSQL\n",
    "# for file in os.listdir(csv_directory):\n",
    "#         if file.endswith('.csv'):\n",
    "#             ticker = file.split('.')[0]\n",
    "#             csv_file = os.path.join(csv_directory, file)\n",
    "#             with open(csv_file, 'r', encoding='utf-8') as f:\n",
    "#                 reader = csv.reader(f)\n",
    "#                 next(reader)  # Skip header\n",
    "#                 for row in reader:\n",
    "#                     cursor_pg.execute('INSERT INTO stock_prices (date, ticker ,open, high, low, close, adj_close, volume) VALUES (%s, %s, %s, %s, %s, %s, %s, %s)',[row[0], ticker] + row[1:])\n",
    "#                     conn_pg.commit()\n",
    "\n",
    "# print(f\"Data from CSVs in {csv_directory} inserted into PostgreSQL table stock_prices.\")\n",
    "\n",
    "# # Close PostgreSQL connection\n",
    "# cursor_pg.close()\n",
    "# conn_pg.close()"
   ]
  }
 ],
 "metadata": {
  "kernelspec": {
   "display_name": "Python 3 (ipykernel)",
   "language": "python",
   "name": "python3"
  },
  "language_info": {
   "codemirror_mode": {
    "name": "ipython",
    "version": 3
   },
   "file_extension": ".py",
   "mimetype": "text/x-python",
   "name": "python",
   "nbconvert_exporter": "python",
   "pygments_lexer": "ipython3",
   "version": "3.11.7"
  }
 },
 "nbformat": 4,
 "nbformat_minor": 5
}
